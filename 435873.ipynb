{
 "cells": [
  {
   "cell_type": "markdown",
   "metadata": {
    "collapsed": false
   },
   "source": [
    "# 综合大作业\n",
    "\n",
    "**第一步：爱奇艺《青春有你2》评论数据爬取**(参考链接：[https://www.iqiyi.com/v_19ryfkiv8w.html#curid=15068699100_9f9bab7e0d1e30c494622af777f4ba39](http://))\n",
    "* 爬取任意一期正片视频下评论\n",
    "* 评论条数不少于1000条\n",
    "\n",
    "**第二步：词频统计并可视化展示**\n",
    "* 数据预处理：清理清洗评论中特殊字符（如：@#￥%、emoji表情符）,清洗后结果存储为txt文档\n",
    "* 中文分词：添加新增词（如：青你、奥利给、冲鸭），去除停用词（如：哦、因此、不然、也好、但是）\n",
    "* 统计top10高频词\n",
    "* 可视化展示高频词\n",
    "\n",
    "**第三步：绘制词云**\n",
    "* 根据词频生成词云\n",
    "* 可选项-添加背景图片，根据背景图片轮廓生成词云 \n",
    "\n",
    "**第四步：结合PaddleHub，对评论进行内容审核**\n",
    "\n"
   ]
  },
  {
   "cell_type": "markdown",
   "metadata": {
    "collapsed": false
   },
   "source": [
    "# 需要的配置和准备\n",
    "* 中文分词需要jieba\n",
    "* 词云绘制需要wordcloud\n",
    "* 可视化展示中需要的中文字体\n",
    "* 网上公开资源中找一个中文停用词表\n",
    "* 根据分词结果自己制作新增词表\n",
    "* 准备一张词云背景图（附加项，不做要求，可用hub抠图实现）\n",
    "* paddlehub配置\n",
    "\n"
   ]
  },
  {
   "cell_type": "code",
   "execution_count": null,
   "metadata": {
    "collapsed": false
   },
   "outputs": [
    {
     "name": "stdout",
     "output_type": "stream",
     "text": [
      "Looking in indexes: https://pypi.mirrors.ustc.edu.cn/simple/\n",
      "Requirement already satisfied: jieba in /opt/conda/envs/python35-paddle120-env/lib/python3.7/site-packages (0.42.1)\n",
      "Looking in indexes: https://pypi.mirrors.ustc.edu.cn/simple/\n",
      "Requirement already satisfied: wordcloud in /opt/conda/envs/python35-paddle120-env/lib/python3.7/site-packages (1.6.0)\n",
      "Requirement already satisfied: matplotlib in /opt/conda/envs/python35-paddle120-env/lib/python3.7/site-packages (from wordcloud) (2.2.3)\n",
      "Requirement already satisfied: pillow in /opt/conda/envs/python35-paddle120-env/lib/python3.7/site-packages (from wordcloud) (6.2.0)\n",
      "Requirement already satisfied: numpy>=1.6.1 in /opt/conda/envs/python35-paddle120-env/lib/python3.7/site-packages (from wordcloud) (1.16.4)\n",
      "Requirement already satisfied: cycler>=0.10 in /opt/conda/envs/python35-paddle120-env/lib/python3.7/site-packages (from matplotlib->wordcloud) (0.10.0)\n",
      "Requirement already satisfied: kiwisolver>=1.0.1 in /opt/conda/envs/python35-paddle120-env/lib/python3.7/site-packages (from matplotlib->wordcloud) (1.1.0)\n",
      "Requirement already satisfied: pytz in /opt/conda/envs/python35-paddle120-env/lib/python3.7/site-packages (from matplotlib->wordcloud) (2019.3)\n",
      "Requirement already satisfied: six>=1.10 in /opt/conda/envs/python35-paddle120-env/lib/python3.7/site-packages (from matplotlib->wordcloud) (1.12.0)\n",
      "Requirement already satisfied: python-dateutil>=2.1 in /opt/conda/envs/python35-paddle120-env/lib/python3.7/site-packages (from matplotlib->wordcloud) (2.8.0)\n",
      "Requirement already satisfied: pyparsing!=2.0.4,!=2.1.2,!=2.1.6,>=2.0.1 in /opt/conda/envs/python35-paddle120-env/lib/python3.7/site-packages (from matplotlib->wordcloud) (2.4.2)\n",
      "Requirement already satisfied: setuptools in /opt/conda/envs/python35-paddle120-env/lib/python3.7/site-packages (from kiwisolver>=1.0.1->matplotlib->wordcloud) (41.4.0)\n"
     ]
    }
   ],
   "source": [
    "!pip install jieba\n",
    "!pip install wordcloud"
   ]
  },
  {
   "cell_type": "code",
   "execution_count": null,
   "metadata": {
    "collapsed": false
   },
   "outputs": [],
   "source": [
    "# !pip install beautifulsoup4 -t ./external-libraries\r\n",
    "# !pip install lxml -t ./external-libraries\r\n",
    "import sys\r\n",
    "sys.path.append('./external-libraries')"
   ]
  },
  {
   "cell_type": "code",
   "execution_count": null,
   "metadata": {
    "collapsed": false
   },
   "outputs": [
    {
     "name": "stdout",
     "output_type": "stream",
     "text": [
      "/home/aistudio/.fonts/chinese.simhei.ttf: SimHei,黑体:style=Regular\r\n",
      "/home/aistudio/.fonts/SimHei.ttf: SimHei,黑体:style=Regular\r\n"
     ]
    }
   ],
   "source": [
    "# Linux系统默认字体文件路径\n",
    "# !ls /usr/share/fonts/\n",
    "# 查看系统可用的ttf格式中文字体\n",
    "!fc-list :lang=zh | grep \".ttf\""
   ]
  },
  {
   "cell_type": "code",
   "execution_count": null,
   "metadata": {
    "collapsed": false
   },
   "outputs": [
    {
     "name": "stdout",
     "output_type": "stream",
     "text": [
      "chinese.simhei.ttf  SimHei.ttf\r\n"
     ]
    }
   ],
   "source": [
    "# !wget https://mydueros.cdn.bcebos.com/font/simhei.ttf # 下载中文字体\n",
    "#创建字体目录fonts\n",
    "!mkdir -p .fonts\n",
    "# 复制字体文件到该路径\n",
    "!cp *.ttf .fonts/\n",
    "!cp *.ttf /opt/conda/envs/python35-paddle120-env/lib/python3.7/site-packages/matplotlib/mpl-data/fonts/ttf/\n",
    "!ls .fonts/"
   ]
  },
  {
   "cell_type": "code",
   "execution_count": null,
   "metadata": {
    "collapsed": false
   },
   "outputs": [
    {
     "name": "stdout",
     "output_type": "stream",
     "text": [
      "Looking in indexes: https://pypi.mirrors.ustc.edu.cn/simple/\n",
      "Requirement already up-to-date: paddlehub in /opt/conda/envs/python35-paddle120-env/lib/python3.7/site-packages (1.6.2)\n",
      "Requirement already satisfied, skipping upgrade: requests in /opt/conda/envs/python35-paddle120-env/lib/python3.7/site-packages (from paddlehub) (2.22.0)\n",
      "Requirement already satisfied, skipping upgrade: colorlog in /opt/conda/envs/python35-paddle120-env/lib/python3.7/site-packages (from paddlehub) (4.1.0)\n",
      "Requirement already satisfied, skipping upgrade: pre-commit in /opt/conda/envs/python35-paddle120-env/lib/python3.7/site-packages (from paddlehub) (1.21.0)\n",
      "Requirement already satisfied, skipping upgrade: Pillow in /opt/conda/envs/python35-paddle120-env/lib/python3.7/site-packages (from paddlehub) (6.2.0)\n",
      "Requirement already satisfied, skipping upgrade: six>=1.10.0 in /opt/conda/envs/python35-paddle120-env/lib/python3.7/site-packages (from paddlehub) (1.12.0)\n",
      "Requirement already satisfied, skipping upgrade: nltk in /opt/conda/envs/python35-paddle120-env/lib/python3.7/site-packages (from paddlehub) (3.4.5)\n",
      "Requirement already satisfied, skipping upgrade: chardet==3.0.4 in /opt/conda/envs/python35-paddle120-env/lib/python3.7/site-packages (from paddlehub) (3.0.4)\n",
      "Requirement already satisfied, skipping upgrade: protobuf>=3.6.0 in /opt/conda/envs/python35-paddle120-env/lib/python3.7/site-packages (from paddlehub) (3.10.0)\n",
      "Requirement already satisfied, skipping upgrade: sentencepiece in /opt/conda/envs/python35-paddle120-env/lib/python3.7/site-packages (from paddlehub) (0.1.85)\n",
      "Requirement already satisfied, skipping upgrade: yapf==0.26.0 in /opt/conda/envs/python35-paddle120-env/lib/python3.7/site-packages (from paddlehub) (0.26.0)\n",
      "Requirement already satisfied, skipping upgrade: tensorboard>=1.15 in /opt/conda/envs/python35-paddle120-env/lib/python3.7/site-packages (from paddlehub) (2.1.0)\n",
      "Requirement already satisfied, skipping upgrade: pandas; python_version >= \"3\" in /opt/conda/envs/python35-paddle120-env/lib/python3.7/site-packages (from paddlehub) (0.23.4)\n",
      "Requirement already satisfied, skipping upgrade: flask>=1.1.0 in /opt/conda/envs/python35-paddle120-env/lib/python3.7/site-packages (from paddlehub) (1.1.1)\n",
      "Requirement already satisfied, skipping upgrade: numpy; python_version >= \"3\" in /opt/conda/envs/python35-paddle120-env/lib/python3.7/site-packages (from paddlehub) (1.16.4)\n",
      "Requirement already satisfied, skipping upgrade: cma==2.7.0 in /opt/conda/envs/python35-paddle120-env/lib/python3.7/site-packages (from paddlehub) (2.7.0)\n",
      "Requirement already satisfied, skipping upgrade: flake8 in /opt/conda/envs/python35-paddle120-env/lib/python3.7/site-packages (from paddlehub) (3.7.9)\n",
      "Requirement already satisfied, skipping upgrade: opencv-python in /opt/conda/envs/python35-paddle120-env/lib/python3.7/site-packages (from paddlehub) (4.1.1.26)\n",
      "Requirement already satisfied, skipping upgrade: gunicorn>=19.10.0; sys_platform != \"win32\" in /opt/conda/envs/python35-paddle120-env/lib/python3.7/site-packages (from paddlehub) (20.0.4)\n",
      "Requirement already satisfied, skipping upgrade: pyyaml in /opt/conda/envs/python35-paddle120-env/lib/python3.7/site-packages (from paddlehub) (5.1.2)\n",
      "Requirement already satisfied, skipping upgrade: tb-paddle in /opt/conda/envs/python35-paddle120-env/lib/python3.7/site-packages (from paddlehub) (0.3.6)\n",
      "Requirement already satisfied, skipping upgrade: urllib3!=1.25.0,!=1.25.1,<1.26,>=1.21.1 in /opt/conda/envs/python35-paddle120-env/lib/python3.7/site-packages (from requests->paddlehub) (1.25.6)\n",
      "Requirement already satisfied, skipping upgrade: certifi>=2017.4.17 in /opt/conda/envs/python35-paddle120-env/lib/python3.7/site-packages (from requests->paddlehub) (2019.9.11)\n",
      "Requirement already satisfied, skipping upgrade: idna<2.9,>=2.5 in /opt/conda/envs/python35-paddle120-env/lib/python3.7/site-packages (from requests->paddlehub) (2.8)\n",
      "Requirement already satisfied, skipping upgrade: toml in /opt/conda/envs/python35-paddle120-env/lib/python3.7/site-packages (from pre-commit->paddlehub) (0.10.0)\n",
      "Requirement already satisfied, skipping upgrade: nodeenv>=0.11.1 in /opt/conda/envs/python35-paddle120-env/lib/python3.7/site-packages (from pre-commit->paddlehub) (1.3.4)\n",
      "Requirement already satisfied, skipping upgrade: aspy.yaml in /opt/conda/envs/python35-paddle120-env/lib/python3.7/site-packages (from pre-commit->paddlehub) (1.3.0)\n",
      "Requirement already satisfied, skipping upgrade: importlib-metadata; python_version < \"3.8\" in /opt/conda/envs/python35-paddle120-env/lib/python3.7/site-packages (from pre-commit->paddlehub) (0.23)\n",
      "Requirement already satisfied, skipping upgrade: cfgv>=2.0.0 in /opt/conda/envs/python35-paddle120-env/lib/python3.7/site-packages (from pre-commit->paddlehub) (2.0.1)\n",
      "Requirement already satisfied, skipping upgrade: identify>=1.0.0 in /opt/conda/envs/python35-paddle120-env/lib/python3.7/site-packages (from pre-commit->paddlehub) (1.4.10)\n",
      "Requirement already satisfied, skipping upgrade: virtualenv>=15.2 in /opt/conda/envs/python35-paddle120-env/lib/python3.7/site-packages (from pre-commit->paddlehub) (16.7.9)\n",
      "Requirement already satisfied, skipping upgrade: setuptools in /opt/conda/envs/python35-paddle120-env/lib/python3.7/site-packages (from protobuf>=3.6.0->paddlehub) (41.4.0)\n",
      "Requirement already satisfied, skipping upgrade: wheel>=0.26; python_version >= \"3\" in /opt/conda/envs/python35-paddle120-env/lib/python3.7/site-packages (from tensorboard>=1.15->paddlehub) (0.33.6)\n",
      "Requirement already satisfied, skipping upgrade: grpcio>=1.24.3 in /opt/conda/envs/python35-paddle120-env/lib/python3.7/site-packages (from tensorboard>=1.15->paddlehub) (1.26.0)\n",
      "Requirement already satisfied, skipping upgrade: absl-py>=0.4 in /opt/conda/envs/python35-paddle120-env/lib/python3.7/site-packages (from tensorboard>=1.15->paddlehub) (0.8.1)\n",
      "Requirement already satisfied, skipping upgrade: markdown>=2.6.8 in /opt/conda/envs/python35-paddle120-env/lib/python3.7/site-packages (from tensorboard>=1.15->paddlehub) (3.1.1)\n",
      "Requirement already satisfied, skipping upgrade: werkzeug>=0.11.15 in /opt/conda/envs/python35-paddle120-env/lib/python3.7/site-packages (from tensorboard>=1.15->paddlehub) (0.16.0)\n",
      "Requirement already satisfied, skipping upgrade: google-auth-oauthlib<0.5,>=0.4.1 in /opt/conda/envs/python35-paddle120-env/lib/python3.7/site-packages (from tensorboard>=1.15->paddlehub) (0.4.1)\n",
      "Requirement already satisfied, skipping upgrade: google-auth<2,>=1.6.3 in /opt/conda/envs/python35-paddle120-env/lib/python3.7/site-packages (from tensorboard>=1.15->paddlehub) (1.10.0)\n",
      "Requirement already satisfied, skipping upgrade: python-dateutil>=2.5.0 in /opt/conda/envs/python35-paddle120-env/lib/python3.7/site-packages (from pandas; python_version >= \"3\"->paddlehub) (2.8.0)\n",
      "Requirement already satisfied, skipping upgrade: pytz>=2011k in /opt/conda/envs/python35-paddle120-env/lib/python3.7/site-packages (from pandas; python_version >= \"3\"->paddlehub) (2019.3)\n",
      "Requirement already satisfied, skipping upgrade: itsdangerous>=0.24 in /opt/conda/envs/python35-paddle120-env/lib/python3.7/site-packages (from flask>=1.1.0->paddlehub) (1.1.0)\n",
      "Requirement already satisfied, skipping upgrade: Jinja2>=2.10.1 in /opt/conda/envs/python35-paddle120-env/lib/python3.7/site-packages (from flask>=1.1.0->paddlehub) (2.10.1)\n",
      "Requirement already satisfied, skipping upgrade: click>=5.1 in /opt/conda/envs/python35-paddle120-env/lib/python3.7/site-packages (from flask>=1.1.0->paddlehub) (7.0)\n",
      "Requirement already satisfied, skipping upgrade: pycodestyle<2.6.0,>=2.5.0 in /opt/conda/envs/python35-paddle120-env/lib/python3.7/site-packages (from flake8->paddlehub) (2.5.0)\n",
      "Requirement already satisfied, skipping upgrade: entrypoints<0.4.0,>=0.3.0 in /opt/conda/envs/python35-paddle120-env/lib/python3.7/site-packages (from flake8->paddlehub) (0.3)\n",
      "Requirement already satisfied, skipping upgrade: pyflakes<2.2.0,>=2.1.0 in /opt/conda/envs/python35-paddle120-env/lib/python3.7/site-packages (from flake8->paddlehub) (2.1.1)\n",
      "Requirement already satisfied, skipping upgrade: mccabe<0.7.0,>=0.6.0 in /opt/conda/envs/python35-paddle120-env/lib/python3.7/site-packages (from flake8->paddlehub) (0.6.1)\n",
      "Requirement already satisfied, skipping upgrade: moviepy in /opt/conda/envs/python35-paddle120-env/lib/python3.7/site-packages (from tb-paddle->paddlehub) (1.0.1)\n",
      "Requirement already satisfied, skipping upgrade: zipp>=0.5 in /opt/conda/envs/python35-paddle120-env/lib/python3.7/site-packages (from importlib-metadata; python_version < \"3.8\"->pre-commit->paddlehub) (0.6.0)\n",
      "Requirement already satisfied, skipping upgrade: requests-oauthlib>=0.7.0 in /opt/conda/envs/python35-paddle120-env/lib/python3.7/site-packages (from google-auth-oauthlib<0.5,>=0.4.1->tensorboard>=1.15->paddlehub) (1.3.0)\n",
      "Requirement already satisfied, skipping upgrade: rsa<4.1,>=3.1.4 in /opt/conda/envs/python35-paddle120-env/lib/python3.7/site-packages (from google-auth<2,>=1.6.3->tensorboard>=1.15->paddlehub) (4.0)\n",
      "Requirement already satisfied, skipping upgrade: pyasn1-modules>=0.2.1 in /opt/conda/envs/python35-paddle120-env/lib/python3.7/site-packages (from google-auth<2,>=1.6.3->tensorboard>=1.15->paddlehub) (0.2.7)\n",
      "Requirement already satisfied, skipping upgrade: cachetools<5.0,>=2.0.0 in /opt/conda/envs/python35-paddle120-env/lib/python3.7/site-packages (from google-auth<2,>=1.6.3->tensorboard>=1.15->paddlehub) (4.0.0)\n",
      "Requirement already satisfied, skipping upgrade: MarkupSafe>=0.23 in /opt/conda/envs/python35-paddle120-env/lib/python3.7/site-packages (from Jinja2>=2.10.1->flask>=1.1.0->paddlehub) (1.1.1)\n",
      "Requirement already satisfied, skipping upgrade: decorator<5.0,>=4.0.2 in /opt/conda/envs/python35-paddle120-env/lib/python3.7/site-packages (from moviepy->tb-paddle->paddlehub) (4.4.0)\n",
      "Requirement already satisfied, skipping upgrade: proglog<=1.0.0 in /opt/conda/envs/python35-paddle120-env/lib/python3.7/site-packages (from moviepy->tb-paddle->paddlehub) (0.1.9)\n",
      "Requirement already satisfied, skipping upgrade: imageio<3.0,>=2.5; python_version >= \"3.4\" in /opt/conda/envs/python35-paddle120-env/lib/python3.7/site-packages (from moviepy->tb-paddle->paddlehub) (2.6.1)\n",
      "Requirement already satisfied, skipping upgrade: imageio-ffmpeg>=0.2.0; python_version >= \"3.4\" in /opt/conda/envs/python35-paddle120-env/lib/python3.7/site-packages (from moviepy->tb-paddle->paddlehub) (0.3.0)\n",
      "Requirement already satisfied, skipping upgrade: tqdm<5.0,>=4.11.2 in /opt/conda/envs/python35-paddle120-env/lib/python3.7/site-packages (from moviepy->tb-paddle->paddlehub) (4.36.1)\n",
      "Requirement already satisfied, skipping upgrade: more-itertools in /opt/conda/envs/python35-paddle120-env/lib/python3.7/site-packages (from zipp>=0.5->importlib-metadata; python_version < \"3.8\"->pre-commit->paddlehub) (7.2.0)\n",
      "Requirement already satisfied, skipping upgrade: oauthlib>=3.0.0 in /opt/conda/envs/python35-paddle120-env/lib/python3.7/site-packages (from requests-oauthlib>=0.7.0->google-auth-oauthlib<0.5,>=0.4.1->tensorboard>=1.15->paddlehub) (3.1.0)\n",
      "Requirement already satisfied, skipping upgrade: pyasn1>=0.1.3 in /opt/conda/envs/python35-paddle120-env/lib/python3.7/site-packages (from rsa<4.1,>=3.1.4->google-auth<2,>=1.6.3->tensorboard>=1.15->paddlehub) (0.4.8)\n"
     ]
    }
   ],
   "source": [
    "!pip install --upgrade paddlehub"
   ]
  },
  {
   "cell_type": "code",
   "execution_count": null,
   "metadata": {
    "collapsed": false
   },
   "outputs": [
    {
     "name": "stdout",
     "output_type": "stream",
     "text": [
      "Downloading emotion_detection_textcnn\n",
      "[==================================================] 100.00%\n",
      "Uncompress /home/aistudio/.paddlehub/tmp/tmprvvntf_n/emotion_detection_textcnn\n",
      "[==================================================] 100.00%\n",
      "Successfully installed emotion_detection_textcnn-1.1.0\n"
     ]
    }
   ],
   "source": [
    "!hub install emotion_detection_textcnn==1.1.0"
   ]
  },
  {
   "cell_type": "code",
   "execution_count": null,
   "metadata": {
    "collapsed": false
   },
   "outputs": [],
   "source": [
    "from __future__ import print_function\n",
    "import requests\n",
    "import json\n",
    "import re #正则匹配\n",
    "import time #时间处理模块\n",
    "import jieba #中文分词\n",
    "import numpy as np\n",
    "import matplotlib\n",
    "import matplotlib.pyplot as plt\n",
    "import matplotlib.font_manager as font_manager\n",
    "from PIL import Image\n",
    "from wordcloud import WordCloud, ImageColorGenerator  #绘制词云模块\n",
    "import paddlehub as hub\n",
    "import pandas as pd\n",
    "from bs4 import BeautifulSoup\n",
    "from multiprocessing import Process,Manager,Value,Lock"
   ]
  },
  {
   "cell_type": "code",
   "execution_count": null,
   "metadata": {
    "collapsed": false
   },
   "outputs": [],
   "source": [
    "#根据content_id，获取评论\n",
    "def getMovieinfo(content_id):\n",
    "    page = 1\n",
    "    headers = { \n",
    "        'User-Agent': 'Mozilla/5.0 (Windows NT 10.0; WOW64) AppleWebKit/537.36 (KHTML, like Gecko) Chrome/67.0.3396.99 Safari/537.36'\n",
    "    }\n",
    "    upremaining = 0\n",
    "    while upremaining!=1 :\n",
    "        url = 'https://sns-comment.iqiyi.com/v3/comment/get_comments.action?agent_type=118&agent_version=9.11.5&authcookie=null&business_type=17&content_id='+content_id+'&hot_size=0&last_id=&page='+str(page)+'&page_size=40&types=time'\n",
    "        response = requests.get(url,headers=headers)\n",
    "        resjson = json.loads(response.text)\n",
    "        upremaining = resjson['data']['upremaining']\n",
    "        coms = resjson['data']['comments']\n",
    "        for val in coms:\n",
    "            if 'content' in val.keys():\n",
    "                comments.append(val['content'])\n",
    "        page+=1\n",
    "#获取视频列表    \n",
    "def getMovies():\n",
    "    content_ids=[]\n",
    "    url = 'https://www.iqiyi.com/v_19ryi480ks.html'\n",
    "    headers = { \n",
    "        'User-Agent': 'Mozilla/5.0 (Windows NT 10.0; WOW64) AppleWebKit/537.36 (KHTML, like Gecko) Chrome/67.0.3396.99 Safari/537.36'\n",
    "    }\n",
    "    \n",
    "    response = requests.get(url,headers=headers)\n",
    "    soup = BeautifulSoup(response.text,'lxml')\n",
    "    li = soup.find_all('li',{'class':'play-list-item'})\n",
    "    for x in li:\n",
    "        content_ids.append(x['data-td'])\n",
    "    return content_ids[1:] #去除第一个预告片\n",
    "#解析json数据，获取评论\n",
    "def saveMovieInfoToFile():\n",
    "    content_ids= getMovies()\n",
    "    process= []\n",
    "    for c_id in content_ids:\n",
    "        # 每个进程爬取一个视频下的评论\n",
    "        p = Process(target=getMovieinfo,args=(c_id,))\n",
    "        process.append(p)\n",
    "        p.start()\n",
    "    \n",
    "    #等待所有线程任务结束。\n",
    "    for p in process:\n",
    "        p.join()\n",
    "    print(\"总共获取了\",len(comments),'条评论')"
   ]
  },
  {
   "cell_type": "code",
   "execution_count": null,
   "metadata": {
    "collapsed": false
   },
   "outputs": [],
   "source": [
    "#去除文本中特殊字符\n",
    "def clear_special_char():\n",
    "    global comments\n",
    "    '''\n",
    "    正则处理特殊字符\n",
    "    参数 content:原文本\n",
    "    return: 清除后的文本\n",
    "    '''\n",
    "\n",
    "    import re\n",
    "    from string import digits, punctuation\n",
    "    for i in range(len(comments)):\n",
    "        s = comments[i]\n",
    "        # print(i)\n",
    "        # print(s)\n",
    "        rule = re.compile(u'[^a-zA-Z.,;《》？！“”‘’@#￥%…&×（）——+【】{};；●，。&～、|\\s:：' + digits + punctuation + '\\u4e00-\\u9fa5]+')\n",
    "        s = re.sub(rule, '', s)\n",
    "        s = re.sub('[、]+', '，', s)\n",
    "        s = re.sub('\\'', '', s)\n",
    "        s = re.sub('[#]+', '，', s)\n",
    "        s = re.sub('[?]+', '？', s)\n",
    "        s = re.sub('[;]+', '，', s)\n",
    "        s = re.sub('[,]+', '，', s)\n",
    "        s = re.sub('[!]+', '！', s)\n",
    "        s = re.sub('[！]+', '！', s)\n",
    "        s = re.sub('[？]+', '？', s)\n",
    "        s = re.sub('[.]+', '.', s)\n",
    "        s = re.sub('[，]+', '，', s)\n",
    "        s = re.sub('[。]+', '。', s)\n",
    "        s = re.sub('/([?!.])\\1+/', '$1', s)\n",
    "        # 人名去重\n",
    "        for name in names:\n",
    "            s = re.sub('('+name+')+',name,s)\n",
    "        # 去除表情\n",
    "        s = re.sub(r\"\\[\\S+\\]\", \"\", s)\n",
    "        comments[i] = s\n",
    "    return\n"
   ]
  },
  {
   "cell_type": "code",
   "execution_count": null,
   "metadata": {
    "collapsed": false
   },
   "outputs": [],
   "source": []
  },
  {
   "cell_type": "code",
   "execution_count": null,
   "metadata": {
    "collapsed": false
   },
   "outputs": [],
   "source": [
    "def fenci(text):\n",
    "    '''\n",
    "    利用jieba进行分词\n",
    "    参数 text:需要分词的句子或文本\n",
    "    return：分词结果\n",
    "    '''\n",
    "    jieba.load_userdict('name.txt')\n",
    "    seg = jieba.lcut(text,cut_all=False)\n",
    "    return seg\n"
   ]
  },
  {
   "cell_type": "code",
   "execution_count": null,
   "metadata": {
    "collapsed": false
   },
   "outputs": [],
   "source": [
    "def stopwordslist(file_path):\n",
    "    '''\n",
    "    创建停用词表\n",
    "    参数 file_path:停用词文本路径\n",
    "    return：停用词list\n",
    "    '''\n",
    "    stopwords = [line.strip() for line in open(file_path, encoding=\"UTF-8\").readlines()]\n",
    "    return stopwords"
   ]
  },
  {
   "cell_type": "code",
   "execution_count": null,
   "metadata": {
    "collapsed": false
   },
   "outputs": [],
   "source": [
    "def movestopwords(sentence, stopwords, counts):\n",
    "    '''\n",
    "    去除停用词,统计词频\n",
    "    参数 file_path:停用词文本路径 stopwords:停用词list counts: 词频统计结果\n",
    "    return：None\n",
    "    '''\n",
    "    for word in sentence:\n",
    "        if word not in stopwords:\n",
    "            if len(word) > 1:\n",
    "                counts[word] = counts.get(word, 0) + 1\n",
    "    return None\n",
    "    "
   ]
  },
  {
   "cell_type": "code",
   "execution_count": 45,
   "metadata": {
    "collapsed": false
   },
   "outputs": [],
   "source": [
    "def drawcounts(counts,num):\n",
    "    '''\n",
    "    绘制词频统计表\n",
    "    参数 counts: 词频统计结果 num:绘制topN\n",
    "    return：none\n",
    "    '''\n",
    "    sort_counts =  sorted(counts.items(), key=lambda kv: kv[1], reverse=True)\n",
    "    x = []\n",
    "    y = []\n",
    "    count = 0\n",
    "    for s in sort_counts:\n",
    "        if s[0] in names:#筛选选手名\n",
    "            x.append(s[0])\n",
    "            y.append(s[1])\n",
    "            count+=1\n",
    "        if count == num:\n",
    "            break\n",
    "\n",
    "    matplotlib.rcParams['font.sans-serif'] = ['SimHei']\n",
    "    matplotlib.rcParams['axes.unicode_minus'] = False\n",
    "    from matplotlib.font_manager import _rebuild\n",
    "    _rebuild() #reload一下\n",
    "    plt.figure(figsize=(10, 10))\n",
    "    plt.barh(x, y)\n",
    "    plt.title('青春有你2 选手词频统计')\n",
    "    plt.show()\n",
    "    return\n",
    "    "
   ]
  },
  {
   "cell_type": "code",
   "execution_count": null,
   "metadata": {
    "collapsed": false
   },
   "outputs": [],
   "source": [
    "def drawcloud(word_f):\n",
    "    '''\n",
    "    根据词频绘制词云图\n",
    "    参数 word_f:统计出的词频结果\n",
    "    return：none\n",
    "    '''\n",
    "    wc = WordCloud(random_state=42,width=800,height=400, relative_scaling=0.3, font_path='SimHei.ttf',background_color='white')\n",
    "\n",
    "    # generate word cloud\n",
    "    wc.fit_words(word_f)\n",
    "\n",
    "\n",
    "    plt.figure(figsize=(10, 12))\n",
    "    plt.imshow(wc, interpolation=\"bilinear\")\n",
    "    plt.axis(\"off\")\n",
    "    plt.show()    \n",
    "    wc.to_file('wordcloud.png')"
   ]
  },
  {
   "cell_type": "code",
   "execution_count": 49,
   "metadata": {
    "collapsed": false
   },
   "outputs": [],
   "source": [
    "def text_detection():\n",
    "    '''\n",
    "    使用hub对评论进行内容分析\n",
    "    return：分析结果\n",
    "\n",
    "    '''\n",
    "\n",
    "    module = hub.Module(name=\"emotion_detection_textcnn\")\n",
    "    \n",
    "    test_text = list(comments)\n",
    "    input_dict = {\"text\": test_text}\n",
    "    results = module.emotion_classify(data=input_dict)\n",
    "\n",
    "    for result in results:\n",
    "            if result['emotion_key']=='positive':\n",
    "                positive.append(result['text'])\n",
    "            elif result['emotion_key']=='neutral':\n",
    "                neutral.append(result['text'])\n",
    "            elif result['emotion_key']=='negative':\n",
    "                negative.append(result['text'])\n",
    "def draw_pie():\n",
    "    labels = [\"正向\",'中性','负面']\n",
    "    plt.rcParams['font.sans-serif'] = ['SimHei'] # 指定默认字体\n",
    "    matplotlib.rcParams.update({'font.size': 16})\n",
    "    plt.figure(figsize=(12, 12))\n",
    "    plt.pie([len(positive),len(neutral),len(negative)], explode=(0.1,0.1,0.1),labels=labels, shadow=True,autopct='%.2f%%',startangle=90)\n",
    "    plt.axis('equal')\n",
    "    plt.legend(loc=\"upper right\",fontsize=10,bbox_to_anchor=(1.1,1.05),borderaxespad=0.3)\n",
    "    plt.title('''《青春有你2》评价分析''',fontsize = 20)\n",
    "    plt.savefig('pie.jpg')"
   ]
  },
  {
   "cell_type": "code",
   "execution_count": null,
   "metadata": {
    "collapsed": false
   },
   "outputs": [],
   "source": [
    "#评论是多分页的，得多次请求爱奇艺的评论接口才能获取多页评论,有些评论含有表情、特殊字符之类的\n",
    "comments = Manager().list()\n",
    "counts ={}\n",
    "names = [line.strip() for line in open('name.txt', encoding=\"UTF-8\").readlines()]\n",
    "lock = Lock()\n",
    "if __name__ == \"__main__\":\n",
    "    saveMovieInfoToFile()"
   ]
  },
  {
   "cell_type": "code",
   "execution_count": null,
   "metadata": {
    "collapsed": false
   },
   "outputs": [],
   "source": [
    "comments = list(comments)\r\n",
    "with open('output.txt', 'w') as file:  # Use file to refer to the file object\r\n",
    "    json.dump(comments, file)"
   ]
  },
  {
   "cell_type": "code",
   "execution_count": null,
   "metadata": {
    "collapsed": false
   },
   "outputs": [],
   "source": [
    "with open('output.txt', 'r') as file:  # Use file to refer to the file object\r\n",
    "        comments = json.load(file)\r\n",
    "clear_special_char()"
   ]
  },
  {
   "cell_type": "code",
   "execution_count": null,
   "metadata": {
    "collapsed": false
   },
   "outputs": [],
   "source": [
    "# comments = tuple(comments)\r\n",
    "stopwords = stopwordslist('cn_stopwords.txt')\r\n",
    "i = 1\r\n",
    "for comment in comments:\r\n",
    "    sentence = fenci(comment)\r\n",
    "    movestopwords(sentence, stopwords, counts)\r\n",
    "    if i%10000 == 0:\r\n",
    "        print(i)\r\n",
    "    i+=1"
   ]
  },
  {
   "cell_type": "code",
   "execution_count": null,
   "metadata": {
    "collapsed": false
   },
   "outputs": [],
   "source": [
    "drawcounts(counts,20)"
   ]
  },
  {
   "cell_type": "code",
   "execution_count": null,
   "metadata": {
    "collapsed": false
   },
   "outputs": [
    {
     "name": "stdout",
     "output_type": "stream",
     "text": [
      "254285\n"
     ]
    }
   ],
   "source": [
    "print(len(comments))"
   ]
  },
  {
   "cell_type": "code",
   "execution_count": null,
   "metadata": {
    "collapsed": false
   },
   "outputs": [],
   "source": [
    "drawcloud(counts)"
   ]
  },
  {
   "cell_type": "code",
   "execution_count": 35,
   "metadata": {
    "collapsed": false
   },
   "outputs": [
    {
     "name": "stderr",
     "output_type": "stream",
     "text": [
      "\u001b[32m[2020-04-30 09:25:33,002] [    INFO] - Installing emotion_detection_textcnn module\u001b[0m\n",
      "\u001b[32m[2020-04-30 09:25:33,005] [    INFO] - Module emotion_detection_textcnn already installed in /home/aistudio/.paddlehub/modules/emotion_detection_textcnn\u001b[0m\n",
      "\u001b[32m[2020-04-30 09:25:33,338] [    INFO] - Installing lac module\u001b[0m\n",
      "\u001b[32m[2020-04-30 09:25:33,340] [    INFO] - Module lac already installed in /home/aistudio/.paddlehub/modules/lac\u001b[0m\n"
     ]
    },
    {
     "name": "stdout",
     "output_type": "stream",
     "text": [
      "58200\n",
      "183488\n",
      "12597\n"
     ]
    }
   ],
   "source": [
    "positive = []\r\n",
    "neutral = []\r\n",
    "negative = []\r\n",
    "text_detection()"
   ]
  },
  {
   "cell_type": "code",
   "execution_count": 50,
   "metadata": {
    "collapsed": false
   },
   "outputs": [
    {
     "data": {
      "image/png": "[encoded data removed]",
      "text/plain": [
       "<Figure size 864x864 with 1 Axes>"
      ]
     },
     "metadata": {},
     "output_type": "display_data"
    }
   ],
   "source": [
    "draw_pie()"
   ]
  },
  {
   "cell_type": "code",
   "execution_count": 52,
   "metadata": {
    "collapsed": false
   },
   "outputs": [
    {
     "name": "stdout",
     "output_type": "stream",
     "text": [
      "['因为看了书欣的电视剧才来看这个的，喜欢她的性格', '我也喜欢左卓', '好喜欢刘雨昕！', '我真的太爱刘雨昕了', '好看好看', '看了这期，真的很心疼喻言', '安崎反差萌真的绝了，好看的颜值和有趣的灵魂她都拥有。', '我也喜欢虞书欣', '虞书欣加油', '冲着虞书欣搞笑视频来的，后面发现太太太多想pick的了。这种模式是看的第一个，努力又融洽的氛围真好。']\n",
      "['乃万！', '乃万', '我要去看男团了拜拜，记得给我点赞', '大家要帮忙投票了吗我这儿还有13票', '大家有要帮忙投票的吗我还有14', '虞书欣', '乃万简直是可盐可甜可rap 可vocal， 随时写词的到处撩妹的博爱艺术家 。', '谢可寅小姐姐要加油喽。', '刘雨昕', '林凡']\n",
      "['刘雨昕你咋不是个男的啊太帅了', '看得累死了磨磨叽叽', '我爱死所有训练生了', '傅如乔 爱死你了', '我就是看美女跳舞的，谁是谁，这个真不关心，长的都挺好看的，挺养眼', '看看徐紫茵吧，看孩子吧！她真的是个宝藏！入股不亏', '赵小棠什么鬼哦！', '真失望  为什么不是刘雨欣！  突然不想看了', '不要脸', '小蝴蝶胡馨尹很棒，呜呜呜不好意思之前没有发现你，不管在哪里都要继续加油呀！真的很棒！']\n"
     ]
    }
   ],
   "source": [
    "print(positive[:10])\r\n",
    "print(neutral[:10])\r\n",
    "print(negative[:10])"
   ]
  },
  {
   "cell_type": "code",
   "execution_count": null,
   "metadata": {
    "collapsed": false
   },
   "outputs": [],
   "source": []
  }
 ],
 "metadata": {
  "kernelspec": {
   "display_name": "PaddlePaddle 1.7.1 (Python 3.5)",
   "language": "python",
   "name": "py35-paddle1.2.0"
  },
  "language_info": {
   "codemirror_mode": {
    "name": "ipython",
    "version": 3
   },
   "file_extension": ".py",
   "mimetype": "text/x-python",
   "name": "python",
   "nbconvert_exporter": "python",
   "pygments_lexer": "ipython3",
   "version": "3.7.4"
  }
 },
 "nbformat": 4,
 "nbformat_minor": 1
}
